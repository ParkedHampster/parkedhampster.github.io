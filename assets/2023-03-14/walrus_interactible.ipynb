{
 "cells": [
  {
   "cell_type": "code",
   "execution_count": 17,
   "metadata": {},
   "outputs": [
    {
     "data": {
      "text/plain": [
       "'Frank'"
      ]
     },
     "execution_count": 17,
     "metadata": {},
     "output_type": "execute_result"
    }
   ],
   "source": [
    "(walrus_name := \"Frank\")"
   ]
  },
  {
   "cell_type": "code",
   "execution_count": 16,
   "metadata": {},
   "outputs": [
    {
     "name": "stdout",
     "output_type": "stream",
     "text": [
      "My favorite walrus is named Frank!\n"
     ]
    }
   ],
   "source": [
    "walrus_name = \"Frank\"\n",
    "print(f'My favorite walrus is named {walrus_name}!')"
   ]
  },
  {
   "cell_type": "code",
   "execution_count": 18,
   "metadata": {},
   "outputs": [
    {
     "name": "stdout",
     "output_type": "stream",
     "text": [
      "My favorite walrus is named Frank!\n"
     ]
    }
   ],
   "source": [
    "walrus_name = \"Frank\"\n",
    "print(f'My favorite walrus is named {walrus_name}!')"
   ]
  },
  {
   "cell_type": "code",
   "execution_count": 20,
   "metadata": {},
   "outputs": [
    {
     "name": "stdout",
     "output_type": "stream",
     "text": [
      "Have you met the greatest of the walruses, Frank Ocean?\n"
     ]
    }
   ],
   "source": [
    "walrus_name = \"Frank\"\n",
    "walrus_last_name = \"Ocean\"\n",
    "walrus_full_name = walrus_name + ' ' + walrus_last_name\n",
    "print(f'''Have you met the greatest of the walruses, {\n",
    "    walrus_full_name}?''')"
   ]
  },
  {
   "cell_type": "code",
   "execution_count": 21,
   "metadata": {},
   "outputs": [
    {
     "name": "stdout",
     "output_type": "stream",
     "text": [
      "Have you met the greatest of the walruses,Frank Ocean?\n"
     ]
    }
   ],
   "source": [
    "print(f'''Have you met the greatest of the walruses,{\n",
    "    (walrus_full_name := (walrus_name := \"Frank\") +\n",
    "    \" \" +\n",
    "    (walrus_last_name := \"Ocean\")\n",
    "    )\n",
    "}?''')"
   ]
  },
  {
   "cell_type": "code",
   "execution_count": 22,
   "metadata": {},
   "outputs": [
    {
     "name": "stdout",
     "output_type": "stream",
     "text": [
      "Have you met the greatest of the walruses, Frank Ocean\n"
     ]
    }
   ],
   "source": [
    "walrus_name = \"Frank\"\n",
    "walrus_last_name = \"Ocean\"\n",
    "print(f'''Have you met the greatest of the walruses, {\n",
    "    (walrus_full_name := walrus_name + \" \" + walrus_last_name)\n",
    "}''')"
   ]
  },
  {
   "cell_type": "code",
   "execution_count": 25,
   "metadata": {},
   "outputs": [
    {
     "name": "stdout",
     "output_type": "stream",
     "text": [
      "64\n"
     ]
    }
   ],
   "source": [
    "n = 8\n",
    "\n",
    "if((check:=n**2) >= 50):\n",
    "    print(check)"
   ]
  },
  {
   "cell_type": "code",
   "execution_count": 29,
   "metadata": {},
   "outputs": [
    {
     "name": "stdout",
     "output_type": "stream",
     "text": [
      "jackelope WRONG!\n",
      "tarNan WRONG!\n",
      "Tacoma WRONG!\n"
     ]
    }
   ],
   "source": [
    "\n",
    "user_input = input(\"What's your favorite arctic mammal? > \")\n",
    "\n",
    "while user_input.lower() != 'walrus':\n",
    "    print(f'{user_input} is WRONG!')\n",
    "    user_input = input(\"What's your favorite arctic mammal? > \")"
   ]
  },
  {
   "cell_type": "code",
   "execution_count": 28,
   "metadata": {},
   "outputs": [
    {
     "name": "stdout",
     "output_type": "stream",
     "text": [
      "WRONG!\n",
      "WRONG!\n"
     ]
    }
   ],
   "source": [
    "while (user_input := input(\"What's your favorite arctic mammal? > \").lower()) != 'walrus':\n",
    "    print(f'{user_input} is WRONG!')"
   ]
  },
  {
   "cell_type": "code",
   "execution_count": null,
   "metadata": {},
   "outputs": [],
   "source": []
  }
 ],
 "metadata": {
  "kernelspec": {
   "display_name": "Python 3 (ipykernel)",
   "language": "python",
   "name": "python3"
  },
  "language_info": {
   "codemirror_mode": {
    "name": "ipython",
    "version": 3
   },
   "file_extension": ".py",
   "mimetype": "text/x-python",
   "name": "python",
   "nbconvert_exporter": "python",
   "pygments_lexer": "ipython3",
   "version": "3.8.5"
  },
  "orig_nbformat": 4
 },
 "nbformat": 4,
 "nbformat_minor": 2
}

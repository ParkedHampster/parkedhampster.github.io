{
 "cells": [
  {
   "cell_type": "code",
   "execution_count": null,
   "metadata": {},
   "outputs": [],
   "source": [
    "(walrus_name := \"Frank\")"
   ]
  },
  {
   "cell_type": "code",
   "execution_count": null,
   "metadata": {},
   "outputs": [],
   "source": [
    "walrus_name = \"Frank\"\n",
    "print(f'My favorite walrus is named {walrus_name}!')"
   ]
  },
  {
   "cell_type": "code",
   "execution_count": null,
   "metadata": {},
   "outputs": [],
   "source": [
    "walrus_name = \"Frank\"\n",
    "print(f'My favorite walrus is named {walrus_name}!')"
   ]
  },
  {
   "cell_type": "code",
   "execution_count": null,
   "metadata": {},
   "outputs": [],
   "source": [
    "walrus_name = \"Frank\"\n",
    "walrus_last_name = \"Ocean\"\n",
    "walrus_full_name = walrus_name + ' ' + walrus_last_name\n",
    "print(f'''Have you met the greatest of the walruses, {\n",
    "    walrus_full_name}?''')"
   ]
  },
  {
   "cell_type": "code",
   "execution_count": null,
   "metadata": {},
   "outputs": [],
   "source": [
    "print(f'''Have you met the greatest of the walruses,{\n",
    "    (walrus_full_name := (walrus_name := \"Frank\") +\n",
    "    \" \" +\n",
    "    (walrus_last_name := \"Ocean\")\n",
    "    )\n",
    "}?''')"
   ]
  },
  {
   "cell_type": "code",
   "execution_count": null,
   "metadata": {},
   "outputs": [],
   "source": [
    "walrus_name = \"Frank\"\n",
    "walrus_last_name = \"Ocean\"\n",
    "print(f'''Have you met the greatest of the walruses, {\n",
    "    (walrus_full_name := walrus_name + \" \" + walrus_last_name)\n",
    "}''')"
   ]
  },
  {
   "cell_type": "code",
   "execution_count": null,
   "metadata": {},
   "outputs": [],
   "source": [
    "n = 8\n",
    "\n",
    "if((check:=n**2) >= 50):\n",
    "    print(check)"
   ]
  },
  {
   "cell_type": "code",
   "execution_count": null,
   "metadata": {},
   "outputs": [],
   "source": [
    "\n",
    "user_input = input(\"What's your favorite arctic mammal? > \")\n",
    "\n",
    "while user_input.lower() != 'walrus':\n",
    "    print(f'{user_input} is WRONG!')\n",
    "    user_input = input(\"What's your favorite arctic mammal? > \")"
   ]
  },
  {
   "cell_type": "code",
   "execution_count": null,
   "metadata": {},
   "outputs": [],
   "source": [
    "while (user_input := input(\"What's your favorite arctic mammal? > \").lower()) != 'walrus':\n",
    "    print(f'{user_input} is WRONG!')"
   ]
  },
  {
   "cell_type": "code",
   "execution_count": 3,
   "metadata": {},
   "outputs": [],
   "source": [
    "import pandas as pd"
   ]
  },
  {
   "cell_type": "code",
   "execution_count": 47,
   "metadata": {},
   "outputs": [
    {
     "data": {
      "text/html": [
       "<div>\n",
       "<style scoped>\n",
       "    .dataframe tbody tr th:only-of-type {\n",
       "        vertical-align: middle;\n",
       "    }\n",
       "\n",
       "    .dataframe tbody tr th {\n",
       "        vertical-align: top;\n",
       "    }\n",
       "\n",
       "    .dataframe thead th {\n",
       "        text-align: right;\n",
       "    }\n",
       "</style>\n",
       "<table border=\"1\" class=\"dataframe\">\n",
       "  <thead>\n",
       "    <tr style=\"text-align: right;\">\n",
       "      <th></th>\n",
       "      <th>date</th>\n",
       "      <th>new_cases</th>\n",
       "      <th>cum_cases</th>\n",
       "      <th>new_death</th>\n",
       "      <th>cum_death</th>\n",
       "      <th>new_recovered</th>\n",
       "      <th>cum_recovered</th>\n",
       "      <th>cum_active_cases</th>\n",
       "    </tr>\n",
       "  </thead>\n",
       "  <tbody>\n",
       "    <tr>\n",
       "      <th>0</th>\n",
       "      <td>2020-01-30</td>\n",
       "      <td>1</td>\n",
       "      <td>1</td>\n",
       "      <td>0</td>\n",
       "      <td>0</td>\n",
       "      <td>0</td>\n",
       "      <td>0</td>\n",
       "      <td>1</td>\n",
       "    </tr>\n",
       "    <tr>\n",
       "      <th>1</th>\n",
       "      <td>2020-01-31</td>\n",
       "      <td>0</td>\n",
       "      <td>1</td>\n",
       "      <td>0</td>\n",
       "      <td>0</td>\n",
       "      <td>0</td>\n",
       "      <td>0</td>\n",
       "      <td>1</td>\n",
       "    </tr>\n",
       "    <tr>\n",
       "      <th>2</th>\n",
       "      <td>2020-02-01</td>\n",
       "      <td>0</td>\n",
       "      <td>1</td>\n",
       "      <td>0</td>\n",
       "      <td>0</td>\n",
       "      <td>0</td>\n",
       "      <td>0</td>\n",
       "      <td>1</td>\n",
       "    </tr>\n",
       "    <tr>\n",
       "      <th>3</th>\n",
       "      <td>2020-02-02</td>\n",
       "      <td>1</td>\n",
       "      <td>2</td>\n",
       "      <td>0</td>\n",
       "      <td>0</td>\n",
       "      <td>0</td>\n",
       "      <td>0</td>\n",
       "      <td>2</td>\n",
       "    </tr>\n",
       "    <tr>\n",
       "      <th>4</th>\n",
       "      <td>2020-02-03</td>\n",
       "      <td>1</td>\n",
       "      <td>3</td>\n",
       "      <td>0</td>\n",
       "      <td>0</td>\n",
       "      <td>0</td>\n",
       "      <td>0</td>\n",
       "      <td>3</td>\n",
       "    </tr>\n",
       "  </tbody>\n",
       "</table>\n",
       "</div>"
      ],
      "text/plain": [
       "         date  new_cases  cum_cases  new_death  cum_death  new_recovered  \\\n",
       "0  2020-01-30          1          1          0          0              0   \n",
       "1  2020-01-31          0          1          0          0              0   \n",
       "2  2020-02-01          0          1          0          0              0   \n",
       "3  2020-02-02          1          2          0          0              0   \n",
       "4  2020-02-03          1          3          0          0              0   \n",
       "\n",
       "   cum_recovered  cum_active_cases  \n",
       "0              0                 1  \n",
       "1              0                 1  \n",
       "2              0                 1  \n",
       "3              0                 2  \n",
       "4              0                 3  "
      ]
     },
     "execution_count": 47,
     "metadata": {},
     "output_type": "execute_result"
    }
   ],
   "source": [
    "covid_daily_in = pd.read_csv('./COVID-19_India_Data.csv')\n",
    "covid_daily_in.head()"
   ]
  },
  {
   "cell_type": "code",
   "execution_count": 55,
   "metadata": {},
   "outputs": [],
   "source": [
    "prev_day = 0\n",
    "covid_daily_in['calculated_cases'] = [\n",
    "    abs(prev_day - (prev_day := cases)) for\n",
    "    # we use abs() here because the prev_day\n",
    "    # value has to be called before it's\n",
    "    # reassigned, so the actual value comes\n",
    "    # out negative, but this should work for\n",
    "    # all cases, as long as there isn't a\n",
    "    # Null value.\n",
    "    cases in covid_daily_in['cum_cases']\n",
    "    ]"
   ]
  },
  {
   "cell_type": "code",
   "execution_count": 53,
   "metadata": {},
   "outputs": [
    {
     "data": {
      "text/html": [
       "<div>\n",
       "<style scoped>\n",
       "    .dataframe tbody tr th:only-of-type {\n",
       "        vertical-align: middle;\n",
       "    }\n",
       "\n",
       "    .dataframe tbody tr th {\n",
       "        vertical-align: top;\n",
       "    }\n",
       "\n",
       "    .dataframe thead th {\n",
       "        text-align: right;\n",
       "    }\n",
       "</style>\n",
       "<table border=\"1\" class=\"dataframe\">\n",
       "  <thead>\n",
       "    <tr style=\"text-align: right;\">\n",
       "      <th></th>\n",
       "      <th>date</th>\n",
       "      <th>cum_cases</th>\n",
       "      <th>new_cases</th>\n",
       "      <th>calculated_cases</th>\n",
       "    </tr>\n",
       "  </thead>\n",
       "  <tbody>\n",
       "    <tr>\n",
       "      <th>0</th>\n",
       "      <td>2020-01-30</td>\n",
       "      <td>1</td>\n",
       "      <td>1</td>\n",
       "      <td>1</td>\n",
       "    </tr>\n",
       "    <tr>\n",
       "      <th>1</th>\n",
       "      <td>2020-01-31</td>\n",
       "      <td>1</td>\n",
       "      <td>0</td>\n",
       "      <td>0</td>\n",
       "    </tr>\n",
       "    <tr>\n",
       "      <th>2</th>\n",
       "      <td>2020-02-01</td>\n",
       "      <td>1</td>\n",
       "      <td>0</td>\n",
       "      <td>0</td>\n",
       "    </tr>\n",
       "    <tr>\n",
       "      <th>3</th>\n",
       "      <td>2020-02-02</td>\n",
       "      <td>2</td>\n",
       "      <td>1</td>\n",
       "      <td>1</td>\n",
       "    </tr>\n",
       "    <tr>\n",
       "      <th>4</th>\n",
       "      <td>2020-02-03</td>\n",
       "      <td>3</td>\n",
       "      <td>1</td>\n",
       "      <td>1</td>\n",
       "    </tr>\n",
       "    <tr>\n",
       "      <th>...</th>\n",
       "      <td>...</td>\n",
       "      <td>...</td>\n",
       "      <td>...</td>\n",
       "      <td>...</td>\n",
       "    </tr>\n",
       "    <tr>\n",
       "      <th>636</th>\n",
       "      <td>2021-10-27</td>\n",
       "      <td>34231030</td>\n",
       "      <td>16351</td>\n",
       "      <td>16351</td>\n",
       "    </tr>\n",
       "    <tr>\n",
       "      <th>637</th>\n",
       "      <td>2021-10-28</td>\n",
       "      <td>34245337</td>\n",
       "      <td>14307</td>\n",
       "      <td>14307</td>\n",
       "    </tr>\n",
       "    <tr>\n",
       "      <th>638</th>\n",
       "      <td>2021-10-29</td>\n",
       "      <td>34259552</td>\n",
       "      <td>14215</td>\n",
       "      <td>14215</td>\n",
       "    </tr>\n",
       "    <tr>\n",
       "      <th>639</th>\n",
       "      <td>2021-10-30</td>\n",
       "      <td>34272492</td>\n",
       "      <td>12940</td>\n",
       "      <td>12940</td>\n",
       "    </tr>\n",
       "    <tr>\n",
       "      <th>640</th>\n",
       "      <td>2021-10-31</td>\n",
       "      <td>34285399</td>\n",
       "      <td>12907</td>\n",
       "      <td>12907</td>\n",
       "    </tr>\n",
       "  </tbody>\n",
       "</table>\n",
       "<p>641 rows × 4 columns</p>\n",
       "</div>"
      ],
      "text/plain": [
       "           date  cum_cases  new_cases  calculated_cases\n",
       "0    2020-01-30          1          1                 1\n",
       "1    2020-01-31          1          0                 0\n",
       "2    2020-02-01          1          0                 0\n",
       "3    2020-02-02          2          1                 1\n",
       "4    2020-02-03          3          1                 1\n",
       "..          ...        ...        ...               ...\n",
       "636  2021-10-27   34231030      16351             16351\n",
       "637  2021-10-28   34245337      14307             14307\n",
       "638  2021-10-29   34259552      14215             14215\n",
       "639  2021-10-30   34272492      12940             12940\n",
       "640  2021-10-31   34285399      12907             12907\n",
       "\n",
       "[641 rows x 4 columns]"
      ]
     },
     "execution_count": 53,
     "metadata": {},
     "output_type": "execute_result"
    }
   ],
   "source": [
    "covid_daily_in[['date','cum_cases','new_cases','calculated_cases']]"
   ]
  },
  {
   "cell_type": "code",
   "execution_count": null,
   "metadata": {},
   "outputs": [],
   "source": [
    "for i ,case in enumerate(covid_daily_in['calculated_cases']):\n",
    "    "
   ]
  }
 ],
 "metadata": {
  "kernelspec": {
   "display_name": "Python 3 (ipykernel)",
   "language": "python",
   "name": "python3"
  },
  "language_info": {
   "codemirror_mode": {
    "name": "ipython",
    "version": 3
   },
   "file_extension": ".py",
   "mimetype": "text/x-python",
   "name": "python",
   "nbconvert_exporter": "python",
   "pygments_lexer": "ipython3",
   "version": "3.9.13"
  },
  "orig_nbformat": 4
 },
 "nbformat": 4,
 "nbformat_minor": 2
}
